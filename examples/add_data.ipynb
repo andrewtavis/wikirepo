{
 "cells": [
  {
   "cell_type": "markdown",
   "metadata": {
    "toc": true
   },
   "source": [
    "<h1>Table of Contents<span class=\"tocSkip\"></span></h1>\n",
    "<div class=\"toc\"><ul class=\"toc-item\"><li><span><a href=\"#Query\" data-toc-modified-id=\"Query-1\"><span class=\"toc-item-num\">1&nbsp;&nbsp;</span>Query</a></span></li><li><span><a href=\"#Edit\" data-toc-modified-id=\"Edit-2\"><span class=\"toc-item-num\">2&nbsp;&nbsp;</span>Edit</a></span></li><li><span><a href=\"#Add\" data-toc-modified-id=\"Add-3\"><span class=\"toc-item-num\">3&nbsp;&nbsp;</span>Add</a></span></li></ul></div>"
   ]
  },
  {
   "cell_type": "markdown",
   "metadata": {},
   "source": [
    "**Adding Data**\n",
    "\n",
    "This example demonstrates how to leverage wikirepo to most effectively add data to [Wikidata](https://www.wikidata.org/wiki/Wikidata:Main_Page). We'll load in a dataset, check for missing data, and then go through the process of filling that data and pushing the changes back to Wikidata. \n",
    "\n",
    "The assumption is that the property that data should be added to already exists. See [examples/add_property](https://github.com/andrewtavis/wikirepo/blob/main/examples/add_property.ipynb) for how to add a property to wikirepo and Wikidata."
   ]
  },
  {
   "cell_type": "markdown",
   "metadata": {},
   "source": [
    "# Query"
   ]
  },
  {
   "cell_type": "code",
   "execution_count": null,
   "metadata": {},
   "outputs": [],
   "source": []
  },
  {
   "cell_type": "markdown",
   "metadata": {},
   "source": [
    "# Edit"
   ]
  },
  {
   "cell_type": "code",
   "execution_count": null,
   "metadata": {},
   "outputs": [],
   "source": []
  },
  {
   "cell_type": "markdown",
   "metadata": {},
   "source": [
    "# Add"
   ]
  },
  {
   "cell_type": "code",
   "execution_count": null,
   "metadata": {},
   "outputs": [],
   "source": []
  }
 ],
 "metadata": {
  "kernelspec": {
   "display_name": "Python 3",
   "language": "python",
   "name": "python3"
  },
  "language_info": {
   "codemirror_mode": {
    "name": "ipython",
    "version": 3
   },
   "file_extension": ".py",
   "mimetype": "text/x-python",
   "name": "python",
   "nbconvert_exporter": "python",
   "pygments_lexer": "ipython3",
   "version": "3.7.7"
  },
  "toc": {
   "base_numbering": 1,
   "nav_menu": {},
   "number_sections": true,
   "sideBar": true,
   "skip_h1_title": false,
   "title_cell": "Table of Contents",
   "title_sidebar": "Contents",
   "toc_cell": true,
   "toc_position": {},
   "toc_section_display": true,
   "toc_window_display": false
  }
 },
 "nbformat": 4,
 "nbformat_minor": 4
}
